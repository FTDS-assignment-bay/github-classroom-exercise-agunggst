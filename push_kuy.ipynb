{
 "cells": [
  {
   "cell_type": "markdown",
   "metadata": {},
   "source": [
    "## Cara Push Git"
   ]
  },
  {
   "cell_type": "markdown",
   "metadata": {},
   "source": [
    "1. `git clone <link ssh>` assignment\n",
    "2. `cd` ke repo local device kalian\n",
    "3. Buat file tugas atau copas dari folder sebelum repo terbentuk\n",
    "4. `git status` untuk cek file terbaru tsb -> harusnya warna filenya merah\n",
    "5. `git add .` untuk masukan seluruh file di repo local ke stage mode\n",
    "6. `git status` sekarang file yang tadinya warna merah harusnya warna hijau\n",
    "7. `git commit -m \"message\"` untuk commit tugas dan memberikan message (-m)\n",
    "8. `git push` untuk push ke github kalian\n",
    "9. Make sure di github kalian file baru sudah terupload.\n",
    "10. `git checkout <version>` untuk cek versi di repo local dan repo github"
   ]
  },
  {
   "cell_type": "markdown",
   "metadata": {},
   "source": [
    "### Test script\n",
    "1. Python\n",
    "```python\n",
    "    def luas (p,l):\n",
    "      return p*l\n",
    "```\n",
    "\n",
    "2. JavaScript\n",
    "```javascript\n",
    "    function luas (p,l) {\n",
    "      return p*l\n",
    "    }\n",
    "```"
   ]
  },
  {
   "cell_type": "markdown",
   "metadata": {},
   "source": [
    "# Heading terbesar\n",
    "## Kedua terbesar\n",
    "### Tiga\n",
    "###### UWU"
   ]
  },
  {
   "cell_type": "markdown",
   "metadata": {},
   "source": []
  }
 ],
 "metadata": {
  "kernelspec": {
   "display_name": "base",
   "language": "python",
   "name": "python3"
  },
  "language_info": {
   "codemirror_mode": {
    "name": "ipython",
    "version": 3
   },
   "file_extension": ".py",
   "mimetype": "text/x-python",
   "name": "python",
   "nbconvert_exporter": "python",
   "pygments_lexer": "ipython3",
   "version": "3.12.7"
  }
 },
 "nbformat": 4,
 "nbformat_minor": 2
}
